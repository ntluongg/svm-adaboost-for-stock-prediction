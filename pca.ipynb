{
 "cells": [
  {
   "cell_type": "code",
   "execution_count": 1,
   "id": "e32d130c",
   "metadata": {},
   "outputs": [
    {
     "name": "stdout",
     "output_type": "stream",
     "text": [
      "Intel MKL WARNING: Support of Intel(R) Streaming SIMD Extensions 4.2 (Intel(R) SSE4.2) enabled only processors has been deprecated. Intel oneAPI Math Kernel Library 2025.0 will require Intel(R) Advanced Vector Extensions (Intel(R) AVX) instructions.\n",
      "Intel MKL WARNING: Support of Intel(R) Streaming SIMD Extensions 4.2 (Intel(R) SSE4.2) enabled only processors has been deprecated. Intel oneAPI Math Kernel Library 2025.0 will require Intel(R) Advanced Vector Extensions (Intel(R) AVX) instructions.\n"
     ]
    }
   ],
   "source": [
    "import numpy as np\n",
    "import pandas as pd\n",
    "import ta\n",
    "import matplotlib.pyplot as plt"
   ]
  },
  {
   "cell_type": "code",
   "execution_count": 2,
   "id": "cdb6c2d6",
   "metadata": {},
   "outputs": [],
   "source": [
    "dd = pd.read_excel(\"Index/data.xlsx\")\n",
    "dd = dd.set_index('Date')\n",
    "dd =dd.drop(columns='Unnamed: 0')"
   ]
  },
  {
   "cell_type": "code",
   "execution_count": 3,
   "id": "2135394a",
   "metadata": {},
   "outputs": [],
   "source": [
    "def Calculate_TA_and_label(dd,c):\n",
    "    dd['Highest_Close']=dd['High'].rolling(window=26).max()\n",
    "    dd['Lowest_Close']=dd['Low'].rolling(window =26).min()\n",
    "    dd['RSI']=ta.momentum.RSIIndicator(dd['Close'], window  = 10, fillna = False).rsi()\n",
    "    dd['MACD']=ta.trend.macd_diff(dd['Close'], window_slow=26,window_fast=12,fillna= False)\n",
    "    dd['MA_slow']=((dd['Close']+dd['Low']+dd['High'])/3).rolling(window=30).mean()\n",
    "    dd['MA'] = ((dd['Close']+dd['Low']+dd['High'])/3).rolling(window=20).mean()\n",
    "    dd['Volume_AVG'] = dd['Volume'].rolling(window=30).mean()\n",
    "    dd['Low_band'] = dd['Low'].rolling(window=9).mean()\n",
    "    dd['High_band'] = dd['High'].rolling(window=9).mean()\n",
    "    dd['Close_only'] = dd['Close'].rolling(window=20).mean()\n",
    "    dd['Sto_RSI']= (dd['RSI']-dd['RSI'].rolling(window=14).min())/(dd['RSI'].rolling(window=14).max()-dd['RSI']+0.1)\n",
    "    dd['MA_RSI']= dd['RSI'].rolling(window=14).mean()\n",
    "    dd['EMA']=ta.trend.ema_indicator(dd['Close'], window = 20, fillna = False)\n",
    "    #dd['CCI'] = ta.trend.cci(dd['High'],dd['Low'],dd['Close'], window=25,constant=0.015,fillna=False)\n",
    "    #dd['ROCI']=ta.momentum.ROCIndicator(dd['Close'], window = 12, fillna = False).roc()\n",
    "    dd['TSI']=ta.momentum.TSIIndicator(dd['Close'], window_slow = 25, window_fast = 13, fillna = False).tsi()\n",
    "    #dd['MACD_signal']=ta.trend.macd_signal(dd['Close'], window_slow=26, window_fast=12, window_sign=9, fillna=False)\n",
    "    #dd['KAMA']=ta.momentum.KAMAIndicator(dd['Close'], window = 10, pow1 = 2, pow2 = 30, fillna = False).kama()\n",
    "    dd['MFI']=ta.volume.MFIIndicator(dd['High'],dd['Low'],dd['Close'],dd['Volume'], window = 18, fillna = False).money_flow_index()\n",
    "    dd['BB_high']=ta.volatility.BollingerBands(dd['Close'], window = 20, window_dev = 2, fillna = False).bollinger_hband()\n",
    "    dd['BB_low']=ta.volatility.BollingerBands(dd['Close'], window = 20, window_dev = 2, fillna = False).bollinger_lband()\n",
    "    dd['BB_high_RSI']=ta.volatility.BollingerBands(dd['RSI'], window = 20, window_dev = 2, fillna = False).bollinger_hband()\n",
    "    dd['BB_low_RSI']=ta.volatility.BollingerBands(dd['RSI'], window = 20, window_dev = 2, fillna = False).bollinger_lband()\n",
    "    dd['BB_high_vol']=ta.volatility.BollingerBands(dd['Volume'], window = 20, window_dev = 1.5, fillna = False).bollinger_hband()\n",
    "    dd['BB_low_vol']=ta.volatility.BollingerBands(dd['Volume'], window = 20, window_dev = 1.5, fillna = False).bollinger_lband()\n",
    "    #dd['WMA']=ta.trend.WMAIndicator(dd['Close'], window = 20, fillna = False).wma()\n",
    "    # đoạn này là bắt đầu khoai r vì nhìn thì nhiều nhưng thực ra tất cả đều không có quá khó hiểu chỉ là bản chất nó khá là rắc rối :Vvv\n",
    "    # tớ sẽ giải thích 1 vài chỉ báo trong đống này\n",
    "    dd['ATR'] =ta.volatility.AverageTrueRange(dd['High'],dd['Low'],dd['Close'],window=14,fillna= False).average_true_range()\n",
    "    dd['High_Low'] = (dd['High']+dd['Low'])/2\n",
    "    dd['upper_band'] = dd['High_Low']+2*dd['ATR']\n",
    "    dd['lower_band'] = dd['High_Low']-2*dd['ATR']\n",
    "    dd[\"Target\"] = dd[\"Close\"].rolling(2).apply(lambda x: 1 if x.iloc[1] > x.iloc[0]+c else -1 if x.iloc[1] < x.iloc[0]-c else 0).shift(-1)\n",
    "    dd[\"Distance\"] = dd[\"Close\"].rolling(2).apply(lambda x :round(x.iloc[1] - x.iloc[0],2)).shift(-1)\n",
    "    final_band_upper=final_band_lower=super_trend=[0 for i in range(len(dd))]\n",
    "    final_band_upper[0] = dd['upper_band'].iloc[0]\n",
    "    final_band_lower[0] = dd['lower_band'].iloc[0]\n",
    "    super_trend[0]= final_band_lower[0]\n",
    "    for i in range(1,len(dd)) :\n",
    "        if dd['upper_band'].iloc[i]< final_band_upper[i-1] or dd['Close'].iloc[i-1]>final_band_upper[i-1]:\n",
    "            final_band_upper[i] = dd['upper_band'].iloc[i]\n",
    "        else: final_band_upper[i] = final_band_upper[i-1]\n",
    "        if dd['lower_band'].iloc[i]> final_band_lower[i-1] or dd['Close'].iloc[i-1]<final_band_lower[i-1]:\n",
    "            final_band_lower[i] = dd['lower_band'].iloc[i]\n",
    "        else: final_band_lower[i] = final_band_lower[i-1]\n",
    "        if super_trend[i-1] == final_band_upper[i-1]:\n",
    "            super_trend[i] = final_band_upper[i] if dd['Close'].iloc[i]<= final_band_upper[i] else final_band_lower[i]\n",
    "        if super_trend[i-1] == final_band_lower[i-1]:\n",
    "            super_trend[i] = final_band_lower[i] if dd['Close'].iloc[i]>= final_band_lower[i] else final_band_upper[i]\n",
    "    dd['Super_trend']=super_trend\n",
    "    dd['RSI']=ta.momentum.RSIIndicator(dd['Close'], window  = 10, fillna = False).rsi()\n",
    "    dd['MA'] = ((dd['Close']+dd['Low']+dd['High'])/3).rolling(window=20).mean()\n",
    "    dd['BB_high']=ta.volatility.BollingerBands(dd['Close'], window = 20, window_dev = 2, fillna = False).bollinger_hband()\n",
    "    dd['BB_low']=ta.volatility.BollingerBands(dd['Close'], window = 20, window_dev = 2, fillna = False).bollinger_lband()\n",
    "    OBV = ta.volume.OnBalanceVolumeIndicator(close=dd['Close'], volume=dd['Volume']).on_balance_volume()\n",
    "    OBV_EMA = OBV.ewm(span=8).mean()\n",
    "    dd['OBV_EMA']=0\n",
    "    dd.loc[OBV_EMA > OBV_EMA.shift(1), 'OBV_EMA'] = 1\n",
    "    dd.loc[OBV_EMA < OBV_EMA.shift(1), 'OBV_EMA'] = -1\n",
    "    DPO = ta.trend.DPOIndicator(dd.Close).dpo()\n",
    "    dd['DPO']=0\n",
    "    dd.loc[DPO > 0, 'DPO'] = 1\n",
    "    dd.loc[DPO < 0, 'DPO'] = -1\n",
    "    MFI = ta.volume.MFIIndicator(dd.High, dd.Low, dd.Close, dd.Volume).money_flow_index()\n",
    "    dd['MFI']=0\n",
    "    dd.loc[MFI > 80, 'MFI'] = 1\n",
    "    dd.loc[MFI < 20, 'MFI'] = -1\n",
    "    dd['bs']=dd['Close']-dd['Close_vn30']\n",
    "    return dd"
   ]
  },
  {
   "cell_type": "code",
   "execution_count": 4,
   "id": "e72fd4cc",
   "metadata": {
    "scrolled": true
   },
   "outputs": [],
   "source": [
    "def Sign_signal(Close,MA,High,Low,BB_high,BB_low,RSI,BB_low_RSI,BB_high_RSI,BB_low_vol,BB_high_vol,Volume,MACD,Low_band,Close_only,EMA,MFI,MA_RSI,super_trend,vnindex,vn30,MA_slow,Volume_AVG,DPO,OBV_EMA,Basic):\n",
    "    Day_Signal=[[] for i in range(len(Close))]\n",
    "    temp=0\n",
    "    rs=[]\n",
    "    for i in range(len(Close)):\n",
    "        Day_Signal[i].append(sum(RSI[t]>=RSI[t+1]for t in range(i-20,i)))\n",
    "        Day_Signal[i].append(sum(Close[t]>=Close[t+1] for t in range(i-4,i)))\n",
    "        Day_Signal[i].append(MA[i]/Close[i])\n",
    "        Day_Signal[i].append(MA[i]/MA[i-1])\n",
    "        Day_Signal[i].append(sum(Close[t]>MA[t] for t in range(i-9,i+1)))\n",
    "        Day_Signal[i].append((BB_high[i]-High[i])/(BB_high[i]-BB_low[i]))\n",
    "        Day_Signal[i].append((BB_low[i]-Low[i])/(BB_high[i]-BB_low[i]))\n",
    "        Day_Signal[i].append(Volume[i]/Volume_AVG[i])\n",
    "        Day_Signal[i].append(sum(MACD[t] for t in range(i-9,i+1)))\n",
    "        Day_Signal[i].append(sum(Volume[t]>Volume[t-1] for t in range(i-9,i+1)))\n",
    "        Day_Signal[i].append(RSI[i]/(BB_high_RSI[i]-BB_low_RSI[i]))\n",
    "        Day_Signal[i].append(vnindex[i]/vnindex[i-3]-vn30[i]/vn30[i-3])\n",
    "        Day_Signal[i].append(sum(vnindex[j-1]>vnindex[j-2] and vn30[j-1]>vn30[j-2] for j in range(i-20,i+1)))\n",
    "        Day_Signal[i].append(vn30[i]-vn30[i-1])\n",
    "        Day_Signal[i].append(DPO[i])\n",
    "        Day_Signal[i].append(Basic[i])\n",
    "\n",
    "    return Day_Signal\n",
    "\n",
    "def Calculate_feature_remove_outlier(dd,c):\n",
    "    Signal= Sign_signal(dd.Close,dd.MA,dd.High,dd.Low,dd.BB_high,dd.BB_low,dd.RSI,dd.BB_low_RSI,dd.BB_high_RSI,dd.BB_low_vol,dd.BB_high_vol,dd.Volume,dd.MACD,dd.Low_band,dd.Close_only,dd.EMA,dd.MFI,dd.MA_RSI,dd.Super_trend,dd.Close_vnind,dd.Close_vn30,dd.MA_slow,dd.Volume_AVG,dd.DPO,dd.OBV_EMA,dd.bs)\n",
    "    dd_Signal = pd.DataFrame(Signal,index=dd.index)\n",
    "    Date = '2022-06-01'\n",
    "    Date_start = '2018-01-11'\n",
    "    Date2 ='2022-06-01'\n",
    "    Date_end = '2024-01-01'\n",
    "    Train = dd.loc[Date_start:Date]\n",
    "    Test = dd.loc[Date2:Date_end]\n",
    "    Signal_Train= dd_Signal.loc[Date_start:Date]\n",
    "    Signal_Test= dd_Signal.loc[Date2:Date_end]\n",
    "    Signal_Train_pd =pd.DataFrame(Signal_Train, index = Train.index)\n",
    "    Signal_Train_pd['Target'] = Train['Target']\n",
    "    Signal_Train_pd['Distance'] = Train['Distance']\n",
    "    Signal_Train_pd['Close']=Train['Close']\n",
    "    Signal_Train_pd = Signal_Train_pd.drop(Signal_Train_pd[abs(Signal_Train_pd['Distance'])>Signal_Train_pd['Close']*c].index)\n",
    "    label_train = Signal_Train_pd['Target']\n",
    "    distance_train = Signal_Train_pd['Distance']\n",
    "    Signal_Train_pd=Signal_Train_pd.drop(columns=['Target','Distance','Close'])\n",
    "    return Signal_Train_pd,label_train,Signal_Test,Train,Test,Signal_Train"
   ]
  },
  {
   "cell_type": "code",
   "execution_count": 5,
   "id": "208d1174",
   "metadata": {},
   "outputs": [
    {
     "name": "stderr",
     "output_type": "stream",
     "text": [
      "/var/folders/yn/x_p7bpbd53x_4p9t5hb2r9140000gn/T/ipykernel_40598/3623002890.py:13: SettingWithCopyWarning: \n",
      "A value is trying to be set on a copy of a slice from a DataFrame\n",
      "\n",
      "See the caveats in the documentation: https://pandas.pydata.org/pandas-docs/stable/user_guide/indexing.html#returning-a-view-versus-a-copy\n",
      "  y_test_final[y_test_final==0] =1\n",
      "/var/folders/yn/x_p7bpbd53x_4p9t5hb2r9140000gn/T/ipykernel_40598/3623002890.py:13: SettingWithCopyWarning: \n",
      "A value is trying to be set on a copy of a slice from a DataFrame\n",
      "\n",
      "See the caveats in the documentation: https://pandas.pydata.org/pandas-docs/stable/user_guide/indexing.html#returning-a-view-versus-a-copy\n",
      "  y_test_final[y_test_final==0] =1\n"
     ]
    }
   ],
   "source": [
    "k = 0\n",
    "h=2\n",
    "l=0\n",
    "dd = Calculate_TA_and_label(dd,k/100)\n",
    "Signal_Train_pd,label_train,Signal_Test,Train,Test,Signal_Train = Calculate_feature_remove_outlier(dd,h)\n",
    "\n",
    "X = Signal_Train\n",
    "y = label_train\n",
    "X_test_final = Signal_Test\n",
    "y_test_final = Test[\"Target\"]\n",
    "\n",
    "y[y==0] =1 \n",
    "y_test_final[y_test_final==0] =1 "
   ]
  },
  {
   "cell_type": "code",
   "execution_count": 6,
   "id": "1b82e5e6",
   "metadata": {},
   "outputs": [],
   "source": [
    "from sklearn.preprocessing import StandardScaler\n",
    "scaler = StandardScaler()\n",
    "scaler.fit(X)\n",
    "X_scaled = scaler.transform(X)"
   ]
  },
  {
   "cell_type": "code",
   "execution_count": 7,
   "id": "9c91fead",
   "metadata": {},
   "outputs": [
    {
     "data": {
      "text/plain": [
       "array([41.97940225, 10.50964143,  8.86688668,  6.29764492,  5.71838627,\n",
       "        5.05513196,  4.47878825,  3.90787819,  3.32851915,  2.82942415,\n",
       "        2.15940651,  1.90438062,  1.26595507,  0.94094685,  0.42105795,\n",
       "        0.33654976])"
      ]
     },
     "execution_count": 7,
     "metadata": {},
     "output_type": "execute_result"
    }
   ],
   "source": [
    "from sklearn.decomposition import PCA \n",
    "pca_12 = PCA(n_components=16, random_state=2023)\n",
    "pca_12.fit(X_scaled)\n",
    "X_pca12 = pca_12.transform(X_scaled)\n",
    "\n",
    "pca_12.explained_variance_ratio_* 100"
   ]
  },
  {
   "cell_type": "code",
   "execution_count": 8,
   "id": "2c0ffd10",
   "metadata": {},
   "outputs": [
    {
     "data": {
      "image/png": "[encoded data removed]",
      "text/plain": [
       "<Figure size 432x288 with 1 Axes>"
      ]
     },
     "metadata": {
      "needs_background": "light"
     },
     "output_type": "display_data"
    }
   ],
   "source": [
    "plt.plot(np.cumsum(pca_12.explained_variance_ratio_)) \n",
    "plt.xlabel('Number of components') \n",
    "plt.ylabel('Explained variance') \n",
    "plt.show()"
   ]
  },
  {
   "cell_type": "markdown",
   "id": "98687eea",
   "metadata": {},
   "source": [
    "We can see that there are 5 features that hold about 74% variance of the dataset"
   ]
  },
  {
   "cell_type": "code",
   "execution_count": 9,
   "id": "a95c8dd2",
   "metadata": {},
   "outputs": [
    {
     "data": {
      "image/png": "[encoded data removed]",
      "text/plain": [
       "<Figure size 432x288 with 1 Axes>"
      ]
     },
     "metadata": {
      "needs_background": "light"
     },
     "output_type": "display_data"
    }
   ],
   "source": [
    "pca_2 = PCA(n_components=2, random_state=2020)\n",
    "pca_2.fit(X_scaled)\n",
    "X_pca_2 = pca_2.transform(X_scaled)\n",
    "\n",
    "plt.scatter(X_pca_2[:,0][y == 1], X_pca_2[:,1][y == 1], s=3, c='r')\n",
    "plt.scatter(X_pca_2[:,0][y == -1], X_pca_2[:,1][y == -1], s=3, c='b')\n",
    "plt.show()"
   ]
  }
 ],
 "metadata": {
  "kernelspec": {
   "display_name": "svm_project",
   "language": "python",
   "name": "svm_project"
  },
  "language_info": {
   "codemirror_mode": {
    "name": "ipython",
    "version": 3
   },
   "file_extension": ".py",
   "mimetype": "text/x-python",
   "name": "python",
   "nbconvert_exporter": "python",
   "pygments_lexer": "ipython3",
   "version": "3.10.11"
  }
 },
 "nbformat": 4,
 "nbformat_minor": 5
}
